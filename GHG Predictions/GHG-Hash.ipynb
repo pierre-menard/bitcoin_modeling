{
 "cells": [
  {
   "cell_type": "code",
   "execution_count": 3,
   "metadata": {},
   "outputs": [],
   "source": [
    "import pandas as pd\n",
    "import numpy as np\n",
    "import matplotlib.pyplot as plt\n",
    "from scipy.optimize import curve_fit"
   ]
  },
  {
   "cell_type": "code",
   "execution_count": 4,
   "metadata": {},
   "outputs": [
    {
     "data": {
      "text/html": [
       "<div>\n",
       "<style scoped>\n",
       "    .dataframe tbody tr th:only-of-type {\n",
       "        vertical-align: middle;\n",
       "    }\n",
       "\n",
       "    .dataframe tbody tr th {\n",
       "        vertical-align: top;\n",
       "    }\n",
       "\n",
       "    .dataframe thead th {\n",
       "        text-align: right;\n",
       "    }\n",
       "</style>\n",
       "<table border=\"1\" class=\"dataframe\">\n",
       "  <thead>\n",
       "    <tr style=\"text-align: right;\">\n",
       "      <th></th>\n",
       "      <th>Date and Time</th>\n",
       "      <th>Hash Rate</th>\n",
       "      <th>Estimated, MtCO2e</th>\n",
       "      <th>GHG/Hash</th>\n",
       "      <th>Power Consumption (GW)</th>\n",
       "    </tr>\n",
       "  </thead>\n",
       "  <tbody>\n",
       "    <tr>\n",
       "      <th>0</th>\n",
       "      <td>2010-07-18</td>\n",
       "      <td>1.552225e-03</td>\n",
       "      <td>0.000119</td>\n",
       "      <td>7.666413e-02</td>\n",
       "      <td>0.000214</td>\n",
       "    </tr>\n",
       "    <tr>\n",
       "      <th>1</th>\n",
       "      <td>2010-07-19</td>\n",
       "      <td>1.570274e-03</td>\n",
       "      <td>0.000119</td>\n",
       "      <td>7.578293e-02</td>\n",
       "      <td>0.000215</td>\n",
       "    </tr>\n",
       "    <tr>\n",
       "      <th>2</th>\n",
       "      <td>2010-07-20</td>\n",
       "      <td>1.633446e-03</td>\n",
       "      <td>0.000121</td>\n",
       "      <td>7.407650e-02</td>\n",
       "      <td>0.000219</td>\n",
       "    </tr>\n",
       "    <tr>\n",
       "      <th>3</th>\n",
       "      <td>2010-07-21</td>\n",
       "      <td>1.868085e-03</td>\n",
       "      <td>0.000127</td>\n",
       "      <td>6.798405e-02</td>\n",
       "      <td>0.000229</td>\n",
       "    </tr>\n",
       "    <tr>\n",
       "      <th>4</th>\n",
       "      <td>2010-07-22</td>\n",
       "      <td>1.588324e-03</td>\n",
       "      <td>0.000126</td>\n",
       "      <td>7.932892e-02</td>\n",
       "      <td>0.000227</td>\n",
       "    </tr>\n",
       "    <tr>\n",
       "      <th>...</th>\n",
       "      <td>...</td>\n",
       "      <td>...</td>\n",
       "      <td>...</td>\n",
       "      <td>...</td>\n",
       "      <td>...</td>\n",
       "    </tr>\n",
       "    <tr>\n",
       "      <th>4424</th>\n",
       "      <td>2022-08-28</td>\n",
       "      <td>2.269079e+08</td>\n",
       "      <td>49.305006</td>\n",
       "      <td>2.172910e-07</td>\n",
       "      <td>97.303928</td>\n",
       "    </tr>\n",
       "    <tr>\n",
       "      <th>4425</th>\n",
       "      <td>2022-08-29</td>\n",
       "      <td>2.212705e+08</td>\n",
       "      <td>49.694708</td>\n",
       "      <td>2.245880e-07</td>\n",
       "      <td>98.073009</td>\n",
       "    </tr>\n",
       "    <tr>\n",
       "      <th>4426</th>\n",
       "      <td>2022-08-30</td>\n",
       "      <td>2.283173e+08</td>\n",
       "      <td>48.944166</td>\n",
       "      <td>2.143690e-07</td>\n",
       "      <td>96.591807</td>\n",
       "    </tr>\n",
       "    <tr>\n",
       "      <th>4427</th>\n",
       "      <td>2022-08-31</td>\n",
       "      <td>2.205152e+08</td>\n",
       "      <td>49.126427</td>\n",
       "      <td>2.227800e-07</td>\n",
       "      <td>96.951501</td>\n",
       "    </tr>\n",
       "    <tr>\n",
       "      <th>4428</th>\n",
       "      <td>2022-09-01</td>\n",
       "      <td>2.125031e+08</td>\n",
       "      <td>48.476867</td>\n",
       "      <td>2.281230e-07</td>\n",
       "      <td>95.669588</td>\n",
       "    </tr>\n",
       "  </tbody>\n",
       "</table>\n",
       "<p>4429 rows × 5 columns</p>\n",
       "</div>"
      ],
      "text/plain": [
       "     Date and Time     Hash Rate  Estimated, MtCO2e      GHG/Hash  \\\n",
       "0       2010-07-18  1.552225e-03           0.000119  7.666413e-02   \n",
       "1       2010-07-19  1.570274e-03           0.000119  7.578293e-02   \n",
       "2       2010-07-20  1.633446e-03           0.000121  7.407650e-02   \n",
       "3       2010-07-21  1.868085e-03           0.000127  6.798405e-02   \n",
       "4       2010-07-22  1.588324e-03           0.000126  7.932892e-02   \n",
       "...            ...           ...                ...           ...   \n",
       "4424    2022-08-28  2.269079e+08          49.305006  2.172910e-07   \n",
       "4425    2022-08-29  2.212705e+08          49.694708  2.245880e-07   \n",
       "4426    2022-08-30  2.283173e+08          48.944166  2.143690e-07   \n",
       "4427    2022-08-31  2.205152e+08          49.126427  2.227800e-07   \n",
       "4428    2022-09-01  2.125031e+08          48.476867  2.281230e-07   \n",
       "\n",
       "      Power Consumption (GW)  \n",
       "0                   0.000214  \n",
       "1                   0.000215  \n",
       "2                   0.000219  \n",
       "3                   0.000229  \n",
       "4                   0.000227  \n",
       "...                      ...  \n",
       "4424               97.303928  \n",
       "4425               98.073009  \n",
       "4426               96.591807  \n",
       "4427               96.951501  \n",
       "4428               95.669588  \n",
       "\n",
       "[4429 rows x 5 columns]"
      ]
     },
     "execution_count": 4,
     "metadata": {},
     "output_type": "execute_result"
    }
   ],
   "source": [
    "df = pd.read_csv('GHG:Hash.csv')\n",
    "df = df[:4429]\n",
    "df"
   ]
  },
  {
   "cell_type": "code",
   "execution_count": 5,
   "metadata": {},
   "outputs": [
    {
     "data": {
      "text/html": [
       "<div>\n",
       "<style scoped>\n",
       "    .dataframe tbody tr th:only-of-type {\n",
       "        vertical-align: middle;\n",
       "    }\n",
       "\n",
       "    .dataframe tbody tr th {\n",
       "        vertical-align: top;\n",
       "    }\n",
       "\n",
       "    .dataframe thead th {\n",
       "        text-align: right;\n",
       "    }\n",
       "</style>\n",
       "<table border=\"1\" class=\"dataframe\">\n",
       "  <thead>\n",
       "    <tr style=\"text-align: right;\">\n",
       "      <th></th>\n",
       "      <th>Date and Time</th>\n",
       "      <th>Hash Rate</th>\n",
       "      <th>Estimated, MtCO2e</th>\n",
       "      <th>GHG/Hash</th>\n",
       "      <th>Power Consumption (GW)</th>\n",
       "      <th>GHG_log_log</th>\n",
       "    </tr>\n",
       "  </thead>\n",
       "  <tbody>\n",
       "    <tr>\n",
       "      <th>0</th>\n",
       "      <td>2010-07-18</td>\n",
       "      <td>1.552225e-03</td>\n",
       "      <td>0.000119</td>\n",
       "      <td>7.666413e-02</td>\n",
       "      <td>0.000214</td>\n",
       "      <td>-2.568321</td>\n",
       "    </tr>\n",
       "    <tr>\n",
       "      <th>1</th>\n",
       "      <td>2010-07-19</td>\n",
       "      <td>1.570274e-03</td>\n",
       "      <td>0.000119</td>\n",
       "      <td>7.578293e-02</td>\n",
       "      <td>0.000215</td>\n",
       "      <td>-2.579882</td>\n",
       "    </tr>\n",
       "    <tr>\n",
       "      <th>2</th>\n",
       "      <td>2010-07-20</td>\n",
       "      <td>1.633446e-03</td>\n",
       "      <td>0.000121</td>\n",
       "      <td>7.407650e-02</td>\n",
       "      <td>0.000219</td>\n",
       "      <td>-2.602657</td>\n",
       "    </tr>\n",
       "    <tr>\n",
       "      <th>3</th>\n",
       "      <td>2010-07-21</td>\n",
       "      <td>1.868085e-03</td>\n",
       "      <td>0.000127</td>\n",
       "      <td>6.798405e-02</td>\n",
       "      <td>0.000229</td>\n",
       "      <td>-2.688482</td>\n",
       "    </tr>\n",
       "    <tr>\n",
       "      <th>4</th>\n",
       "      <td>2010-07-22</td>\n",
       "      <td>1.588324e-03</td>\n",
       "      <td>0.000126</td>\n",
       "      <td>7.932892e-02</td>\n",
       "      <td>0.000227</td>\n",
       "      <td>-2.534152</td>\n",
       "    </tr>\n",
       "    <tr>\n",
       "      <th>...</th>\n",
       "      <td>...</td>\n",
       "      <td>...</td>\n",
       "      <td>...</td>\n",
       "      <td>...</td>\n",
       "      <td>...</td>\n",
       "      <td>...</td>\n",
       "    </tr>\n",
       "    <tr>\n",
       "      <th>4424</th>\n",
       "      <td>2022-08-28</td>\n",
       "      <td>2.269079e+08</td>\n",
       "      <td>49.305006</td>\n",
       "      <td>2.172910e-07</td>\n",
       "      <td>97.303928</td>\n",
       "      <td>-15.342028</td>\n",
       "    </tr>\n",
       "    <tr>\n",
       "      <th>4425</th>\n",
       "      <td>2022-08-29</td>\n",
       "      <td>2.212705e+08</td>\n",
       "      <td>49.694708</td>\n",
       "      <td>2.245880e-07</td>\n",
       "      <td>98.073009</td>\n",
       "      <td>-15.308998</td>\n",
       "    </tr>\n",
       "    <tr>\n",
       "      <th>4426</th>\n",
       "      <td>2022-08-30</td>\n",
       "      <td>2.283173e+08</td>\n",
       "      <td>48.944166</td>\n",
       "      <td>2.143690e-07</td>\n",
       "      <td>96.591807</td>\n",
       "      <td>-15.355567</td>\n",
       "    </tr>\n",
       "    <tr>\n",
       "      <th>4427</th>\n",
       "      <td>2022-08-31</td>\n",
       "      <td>2.205152e+08</td>\n",
       "      <td>49.126427</td>\n",
       "      <td>2.227800e-07</td>\n",
       "      <td>96.951501</td>\n",
       "      <td>-15.317081</td>\n",
       "    </tr>\n",
       "    <tr>\n",
       "      <th>4428</th>\n",
       "      <td>2022-09-01</td>\n",
       "      <td>2.125031e+08</td>\n",
       "      <td>48.476867</td>\n",
       "      <td>2.281230e-07</td>\n",
       "      <td>95.669588</td>\n",
       "      <td>-15.293381</td>\n",
       "    </tr>\n",
       "  </tbody>\n",
       "</table>\n",
       "<p>4429 rows × 6 columns</p>\n",
       "</div>"
      ],
      "text/plain": [
       "     Date and Time     Hash Rate  Estimated, MtCO2e      GHG/Hash  \\\n",
       "0       2010-07-18  1.552225e-03           0.000119  7.666413e-02   \n",
       "1       2010-07-19  1.570274e-03           0.000119  7.578293e-02   \n",
       "2       2010-07-20  1.633446e-03           0.000121  7.407650e-02   \n",
       "3       2010-07-21  1.868085e-03           0.000127  6.798405e-02   \n",
       "4       2010-07-22  1.588324e-03           0.000126  7.932892e-02   \n",
       "...            ...           ...                ...           ...   \n",
       "4424    2022-08-28  2.269079e+08          49.305006  2.172910e-07   \n",
       "4425    2022-08-29  2.212705e+08          49.694708  2.245880e-07   \n",
       "4426    2022-08-30  2.283173e+08          48.944166  2.143690e-07   \n",
       "4427    2022-08-31  2.205152e+08          49.126427  2.227800e-07   \n",
       "4428    2022-09-01  2.125031e+08          48.476867  2.281230e-07   \n",
       "\n",
       "      Power Consumption (GW)  GHG_log_log  \n",
       "0                   0.000214    -2.568321  \n",
       "1                   0.000215    -2.579882  \n",
       "2                   0.000219    -2.602657  \n",
       "3                   0.000229    -2.688482  \n",
       "4                   0.000227    -2.534152  \n",
       "...                      ...          ...  \n",
       "4424               97.303928   -15.342028  \n",
       "4425               98.073009   -15.308998  \n",
       "4426               96.591807   -15.355567  \n",
       "4427               96.951501   -15.317081  \n",
       "4428               95.669588   -15.293381  \n",
       "\n",
       "[4429 rows x 6 columns]"
      ]
     },
     "execution_count": 5,
     "metadata": {},
     "output_type": "execute_result"
    }
   ],
   "source": [
    "df['GHG_log_log'] = np.log(df['GHG/Hash'])\n",
    "df"
   ]
  },
  {
   "cell_type": "code",
   "execution_count": 6,
   "metadata": {},
   "outputs": [
    {
     "name": "stdout",
     "output_type": "stream",
     "text": [
      "[   1    2    3 ... 4427 4428 4429]\n",
      "[7.6664127e-02 7.5782930e-02 7.4076504e-02 ... 2.1436900e-07 2.2278000e-07\n",
      " 2.2812300e-07]\n"
     ]
    }
   ],
   "source": [
    "def log_function(x, a, b):\n",
    "    return a * np.log(x) + b\n",
    "    \n",
    "x_data = np.array(df.index + 1)\n",
    "print(x_data)\n",
    "y_data = np.array(df['GHG/Hash'])\n",
    "print(y_data)"
   ]
  },
  {
   "cell_type": "code",
   "execution_count": 7,
   "metadata": {},
   "outputs": [
    {
     "name": "stdout",
     "output_type": "stream",
     "text": [
      "a: -3.7089795958646805, b: 16.142371300982827\n"
     ]
    },
    {
     "name": "stderr",
     "output_type": "stream",
     "text": [
      "/var/folders/6v/prbg9yl95vzfc3swbz1llv040000gn/T/ipykernel_10826/412840141.py:17: MatplotlibDeprecationWarning: Support for case-insensitive scales is deprecated since 3.5 and support will be removed two minor releases later.\n",
      "  plt.yscale('Log')\n"
     ]
    },
    {
     "data": {
      "image/png": "[encoded data removed]",
      "text/plain": [
       "<Figure size 432x288 with 1 Axes>"
      ]
     },
     "metadata": {
      "needs_background": "light"
     },
     "output_type": "display_data"
    }
   ],
   "source": [
    "log_y_data = np.log(y_data)\n",
    "\n",
    "# Fit the logarithm of y_data to the logarithmic function\n",
    "params, _ = curve_fit(log_function, x_data, log_y_data)\n",
    "\n",
    "# Print the best-fit parameters\n",
    "a, b = params\n",
    "print(f\"a: {a}, b: {b}\")\n",
    "\n",
    "# Plot the original data and the fitted logarithmic function\n",
    "plt.scatter(x_data, y_data, label=\"Data\")\n",
    "x_fit = np.linspace(100, 7000, 100) #Around 2030\n",
    "y_fit = np.exp(log_function(x_fit, a, b))  # Inverse transform to the original scale\n",
    "plt.plot(x_fit, y_fit, label=\"Fitted log-log function\", color=\"r\")\n",
    "plt.legend()\n",
    "plt.title('GHG/Hash to 2030')\n",
    "plt.yscale('Log')\n",
    "plt.show()"
   ]
  },
  {
   "cell_type": "code",
   "execution_count": 8,
   "metadata": {},
   "outputs": [
    {
     "name": "stdout",
     "output_type": "stream",
     "text": [
      "100\n"
     ]
    }
   ],
   "source": [
    "print(len(y_fit))"
   ]
  },
  {
   "cell_type": "code",
   "execution_count": 9,
   "metadata": {},
   "outputs": [
    {
     "name": "stdout",
     "output_type": "stream",
     "text": [
      "4429\n"
     ]
    }
   ],
   "source": [
    "#Adding dates to graph\n",
    "t = pd.date_range(start='2010-07-18',\n",
    "                  end='2040-01-01',\n",
    "                  periods=100)\n",
    "print(len(y_data))\n",
    "t2 = pd.date_range(start='2010-07-18',\n",
    "                  end='2022-09-01',\n",
    "                  periods=len(y_data))"
   ]
  },
  {
   "cell_type": "code",
   "execution_count": 10,
   "metadata": {},
   "outputs": [
    {
     "name": "stderr",
     "output_type": "stream",
     "text": [
      "/var/folders/6v/prbg9yl95vzfc3swbz1llv040000gn/T/ipykernel_10826/2466345279.py:5: MatplotlibDeprecationWarning: Support for case-insensitive scales is deprecated since 3.5 and support will be removed two minor releases later.\n",
      "  plt.yscale('Log')\n"
     ]
    },
    {
     "data": {
      "image/png": "[encoded data removed]",
      "text/plain": [
       "<Figure size 432x288 with 1 Axes>"
      ]
     },
     "metadata": {
      "needs_background": "light"
     },
     "output_type": "display_data"
    }
   ],
   "source": [
    "#Seems like adding the fit distorts the data. FIX THIS!\n",
    "plt.scatter(t2, y_data, label=\"Data\")\n",
    "plt.plot(t, y_fit, label=\"Fitted log-log function\", color=\"r\")\n",
    "plt.legend()\n",
    "plt.yscale('Log')\n",
    "plt.show()"
   ]
  },
  {
   "cell_type": "code",
   "execution_count": null,
   "metadata": {},
   "outputs": [],
   "source": []
  }
 ],
 "metadata": {
  "interpreter": {
   "hash": "075fe5fc92b6a736a868f8060e4fff4900e387aa35f0738a963de762541eb1f8"
  },
  "kernelspec": {
   "display_name": "Python 3.9.12 ('base')",
   "language": "python",
   "name": "python3"
  },
  "language_info": {
   "codemirror_mode": {
    "name": "ipython",
    "version": 3
   },
   "file_extension": ".py",
   "mimetype": "text/x-python",
   "name": "python",
   "nbconvert_exporter": "python",
   "pygments_lexer": "ipython3",
   "version": "3.9.12"
  },
  "orig_nbformat": 4
 },
 "nbformat": 4,
 "nbformat_minor": 2
}
